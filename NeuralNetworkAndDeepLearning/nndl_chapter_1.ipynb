{
 "cells": [
  {
   "cell_type": "code",
   "execution_count": 1,
   "metadata": {
    "collapsed": true
   },
   "outputs": [],
   "source": [
    "%matplotlib inline"
   ]
  },
  {
   "cell_type": "code",
   "execution_count": 3,
   "metadata": {
    "collapsed": false
   },
   "outputs": [],
   "source": [
    "from matplotlib.pyplot import imshow"
   ]
  },
  {
   "cell_type": "code",
   "execution_count": 4,
   "metadata": {
    "collapsed": true
   },
   "outputs": [],
   "source": [
    "import mnist_loader"
   ]
  },
  {
   "cell_type": "code",
   "execution_count": 5,
   "metadata": {
    "collapsed": true
   },
   "outputs": [],
   "source": [
    "train_data, valid_data, test_data = mnist_loader.load_data()"
   ]
  },
  {
   "cell_type": "code",
   "execution_count": 6,
   "metadata": {
    "collapsed": false
   },
   "outputs": [
    {
     "name": "stdout",
     "output_type": "stream",
     "text": [
      "5\n"
     ]
    }
   ],
   "source": [
    "print train_data[1][0]"
   ]
  },
  {
   "cell_type": "code",
   "execution_count": 10,
   "metadata": {
    "collapsed": false
   },
   "outputs": [
    {
     "data": {
      "text/plain": [
       "<matplotlib.image.AxesImage at 0x1060b4290>"
      ]
     },
     "execution_count": 10,
     "metadata": {},
     "output_type": "execute_result"
    },
    {
     "data": {
      "image/png": "[encoded data removed]",
      "text/plain": [
       "<matplotlib.figure.Figure at 0x105f80890>"
      ]
     },
     "metadata": {},
     "output_type": "display_data"
    }
   ],
   "source": [
    "imshow(train_data[0][0, :].reshape([28,28]), cmap=\"Greys\")"
   ]
  },
  {
   "cell_type": "code",
   "execution_count": 11,
   "metadata": {
    "collapsed": true
   },
   "outputs": [],
   "source": [
    "training_data, validation_data, testing_data = mnist_loader.load_data_wrapper()"
   ]
  },
  {
   "cell_type": "code",
   "execution_count": 15,
   "metadata": {
    "collapsed": false
   },
   "outputs": [
    {
     "data": {
      "text/plain": [
       "(784, 1)"
      ]
     },
     "execution_count": 15,
     "metadata": {},
     "output_type": "execute_result"
    }
   ],
   "source": [
    "train_data[0][0, :].reshape((784, 1)).shape"
   ]
  },
  {
   "cell_type": "code",
   "execution_count": 16,
   "metadata": {
    "collapsed": true
   },
   "outputs": [],
   "source": [
    "import network"
   ]
  },
  {
   "cell_type": "code",
   "execution_count": 17,
   "metadata": {
    "collapsed": true
   },
   "outputs": [],
   "source": [
    "mnist_nn = network.Network([784, 23, 10])  # with 23 hidden neurons. "
   ]
  },
  {
   "cell_type": "code",
   "execution_count": 18,
   "metadata": {
    "collapsed": false
   },
   "outputs": [
    {
     "name": "stdout",
     "output_type": "stream",
     "text": [
      "Epoch 0: 9092 / 10000\n",
      "Epoch 1: 9201 / 10000\n",
      "Epoch 2: 9278 / 10000\n",
      "Epoch 3: 9315 / 10000\n",
      "Epoch 4: 9313 / 10000\n",
      "Epoch 5: 9357 / 10000\n",
      "Epoch 6: 9389 / 10000\n",
      "Epoch 7: 9395 / 10000\n",
      "Epoch 8: 9373 / 10000\n",
      "Epoch 9: 9383 / 10000\n",
      "Epoch 10: 9406 / 10000\n",
      "Epoch 11: 9391 / 10000\n",
      "Epoch 12: 9389 / 10000\n",
      "Epoch 13: 9414 / 10000\n",
      "Epoch 14: 9397 / 10000\n",
      "Epoch 15: 9428 / 10000\n",
      "Epoch 16: 9419 / 10000\n",
      "Epoch 17: 9417 / 10000\n",
      "Epoch 18: 9384 / 10000\n",
      "Epoch 19: 9417 / 10000\n",
      "Epoch 20: 9442 / 10000\n",
      "Epoch 21: 9404 / 10000\n",
      "Epoch 22: 9422 / 10000\n",
      "Epoch 23: 9451 / 10000\n",
      "Epoch 24: 9459 / 10000\n",
      "Epoch 25: 9426 / 10000\n",
      "Epoch 26: 9442 / 10000\n",
      "Epoch 27: 9424 / 10000\n",
      "Epoch 28: 9440 / 10000\n",
      "Epoch 29: 9443 / 10000\n"
     ]
    }
   ],
   "source": [
    "# try stochastic gradient descent\n",
    "mnist_nn.SGD(training_data, epochs=30, mini_batch_size=10, eta=3.0, test_data=testing_data)"
   ]
  },
  {
   "cell_type": "code",
   "execution_count": 19,
   "metadata": {
    "collapsed": true
   },
   "outputs": [],
   "source": [
    "mnist_nn_hl_100 = network.Network([784, 100, 10])"
   ]
  },
  {
   "cell_type": "code",
   "execution_count": 20,
   "metadata": {
    "collapsed": false
   },
   "outputs": [
    {
     "name": "stdout",
     "output_type": "stream",
     "text": [
      "Epoch 0: 7356 / 10000\n",
      "Epoch 1: 7530 / 10000\n",
      "Epoch 2: 7570 / 10000\n",
      "Epoch 3: 7586 / 10000\n",
      "Epoch 4: 7788 / 10000\n",
      "Epoch 5: 8411 / 10000\n",
      "Epoch 6: 8405 / 10000\n",
      "Epoch 7: 8452 / 10000\n",
      "Epoch 8: 8487 / 10000\n",
      "Epoch 9: 8498 / 10000\n",
      "Epoch 10: 8518 / 10000\n",
      "Epoch 11: 8523 / 10000\n",
      "Epoch 12: 8508 / 10000\n",
      "Epoch 13: 8522 / 10000\n",
      "Epoch 14: 8515 / 10000\n",
      "Epoch 15: 8541 / 10000\n",
      "Epoch 16: 8527 / 10000\n",
      "Epoch 17: 8525 / 10000\n",
      "Epoch 18: 8519 / 10000\n",
      "Epoch 19: 8536 / 10000\n",
      "Epoch 20: 8544 / 10000\n",
      "Epoch 21: 8525 / 10000\n",
      "Epoch 22: 8545 / 10000\n",
      "Epoch 23: 8548 / 10000\n",
      "Epoch 24: 8541 / 10000\n",
      "Epoch 25: 8547 / 10000\n",
      "Epoch 26: 8546 / 10000\n",
      "Epoch 27: 8558 / 10000\n",
      "Epoch 28: 8552 / 10000\n",
      "Epoch 29: 8553 / 10000\n",
      "Epoch 30: 8558 / 10000\n",
      "Epoch 31: 8561 / 10000\n",
      "Epoch 32: 8556 / 10000\n",
      "Epoch 33: 8555 / 10000\n",
      "Epoch 34: 8557 / 10000\n",
      "Epoch 35: 8564 / 10000\n",
      "Epoch 36: 8552 / 10000\n",
      "Epoch 37: 8555 / 10000\n",
      "Epoch 38: 8555 / 10000\n",
      "Epoch 39: 8558 / 10000\n",
      "Epoch 40: 8552 / 10000\n",
      "Epoch 41: 8553 / 10000\n",
      "Epoch 42: 8548 / 10000\n",
      "Epoch 43: 8551 / 10000\n",
      "Epoch 44: 8556 / 10000\n",
      "Epoch 45: 8554 / 10000\n",
      "Epoch 46: 8555 / 10000\n",
      "Epoch 47: 8555 / 10000\n",
      "Epoch 48: 8549 / 10000\n",
      "Epoch 49: 8550 / 10000\n",
      "Epoch 50: 8558 / 10000\n",
      "Epoch 51: 8553 / 10000\n",
      "Epoch 52: 8561 / 10000\n",
      "Epoch 53: 8557 / 10000\n",
      "Epoch 54: 8554 / 10000\n",
      "Epoch 55: 8556 / 10000\n",
      "Epoch 56: 8557 / 10000\n",
      "Epoch 57: 8554 / 10000\n",
      "Epoch 58: 8562 / 10000\n",
      "Epoch 59: 8562 / 10000\n",
      "Epoch 60: 8557 / 10000\n",
      "Epoch 61: 8560 / 10000\n",
      "Epoch 62: 8568 / 10000\n",
      "Epoch 63: 8568 / 10000\n",
      "Epoch 64: 8565 / 10000\n",
      "Epoch 65: 8566 / 10000\n",
      "Epoch 66: 8562 / 10000\n",
      "Epoch 67: 8570 / 10000\n",
      "Epoch 68: 8568 / 10000\n",
      "Epoch 69: 8564 / 10000\n",
      "Epoch 70: 8569 / 10000\n",
      "Epoch 71: 8568 / 10000\n",
      "Epoch 72: 8567 / 10000\n",
      "Epoch 73: 8567 / 10000\n",
      "Epoch 74: 8562 / 10000\n",
      "Epoch 75: 8566 / 10000\n",
      "Epoch 76: 8568 / 10000\n",
      "Epoch 77: 8566 / 10000\n",
      "Epoch 78: 8567 / 10000\n",
      "Epoch 79: 8559 / 10000\n",
      "Epoch 80: 8566 / 10000\n",
      "Epoch 81: 8560 / 10000\n",
      "Epoch 82: 8567 / 10000\n",
      "Epoch 83: 8562 / 10000\n",
      "Epoch 84: 8566 / 10000\n",
      "Epoch 85: 8559 / 10000\n",
      "Epoch 86: 8564 / 10000\n",
      "Epoch 87: 8567 / 10000\n",
      "Epoch 88: 8570 / 10000\n",
      "Epoch 89: 8567 / 10000\n",
      "Epoch 90: 8562 / 10000\n",
      "Epoch 91: 8567 / 10000\n",
      "Epoch 92: 8568 / 10000\n",
      "Epoch 93: 8566 / 10000\n",
      "Epoch 94: 8564 / 10000\n",
      "Epoch 95: 8566 / 10000\n",
      "Epoch 96: 8565 / 10000\n",
      "Epoch 97: 8563 / 10000\n",
      "Epoch 98: 8558 / 10000\n",
      "Epoch 99: 8567 / 10000\n"
     ]
    }
   ],
   "source": [
    "mnist_nn_hl_100.SGD(training_data=training_data, epochs=100, mini_batch_size=10, eta=3.0, test_data=testing_data)"
   ]
  },
  {
   "cell_type": "code",
   "execution_count": 30,
   "metadata": {
    "collapsed": false
   },
   "outputs": [
    {
     "name": "stdout",
     "output_type": "stream",
     "text": [
      ">>>>>>>>  Using eta=0.010000  <<<<<<<<\n",
      "Epoch 0 complete\n",
      "Epoch 1 complete\n",
      "Epoch 2 complete\n",
      "Epoch 3 complete\n",
      "Epoch 4 complete\n",
      "Epoch 5 complete\n",
      "Epoch 6 complete\n",
      "Epoch 7 complete\n",
      "Epoch 8 complete\n",
      "Epoch 9 complete\n",
      "Epoch 10 complete\n",
      "Epoch 11 complete\n",
      "Epoch 12 complete\n",
      "Epoch 13 complete\n",
      "Epoch 14 complete\n",
      "Epoch 15 complete\n",
      "Epoch 16 complete\n",
      "Epoch 17 complete\n",
      "Epoch 18 complete\n",
      "Epoch 19 complete\n",
      "Epoch 20 complete\n",
      "Epoch 21 complete\n",
      "Epoch 22 complete\n",
      "Epoch 23 complete\n",
      "Epoch 24 complete\n",
      "Epoch 25 complete\n",
      "Epoch 26 complete\n",
      "Epoch 27 complete\n",
      "Epoch 28 complete\n",
      "Epoch 29 complete\n",
      ">>>>>>>>  Using eta=0.030000  <<<<<<<<\n",
      "Epoch 0 complete\n",
      "Epoch 1 complete\n",
      "Epoch 2 complete\n",
      "Epoch 3 complete\n",
      "Epoch 4 complete\n",
      "Epoch 5 complete\n",
      "Epoch 6 complete\n",
      "Epoch 7 complete\n",
      "Epoch 8 complete\n",
      "Epoch 9 complete\n",
      "Epoch 10 complete\n",
      "Epoch 11 complete\n",
      "Epoch 12 complete\n",
      "Epoch 13 complete\n",
      "Epoch 14 complete\n",
      "Epoch 15 complete\n",
      "Epoch 16 complete\n",
      "Epoch 17 complete\n",
      "Epoch 18 complete\n",
      "Epoch 19 complete\n",
      "Epoch 20 complete\n",
      "Epoch 21 complete\n",
      "Epoch 22 complete\n",
      "Epoch 23 complete\n",
      "Epoch 24 complete\n",
      "Epoch 25 complete\n",
      "Epoch 26 complete\n",
      "Epoch 27 complete\n",
      "Epoch 28 complete\n",
      "Epoch 29 complete\n",
      ">>>>>>>>  Using eta=0.100000  <<<<<<<<\n",
      "Epoch 0 complete\n",
      "Epoch 1 complete\n",
      "Epoch 2 complete\n",
      "Epoch 3 complete\n",
      "Epoch 4 complete\n",
      "Epoch 5 complete\n",
      "Epoch 6 complete\n",
      "Epoch 7 complete\n",
      "Epoch 8 complete\n",
      "Epoch 9 complete\n",
      "Epoch 10 complete\n",
      "Epoch 11 complete\n",
      "Epoch 12 complete\n",
      "Epoch 13 complete\n",
      "Epoch 14 complete\n",
      "Epoch 15 complete\n",
      "Epoch 16 complete\n",
      "Epoch 17 complete\n",
      "Epoch 18 complete\n",
      "Epoch 19 complete\n",
      "Epoch 20 complete\n",
      "Epoch 21 complete\n",
      "Epoch 22 complete\n",
      "Epoch 23 complete\n",
      "Epoch 24 complete\n",
      "Epoch 25 complete\n",
      "Epoch 26 complete\n",
      "Epoch 27 complete\n",
      "Epoch 28 complete\n",
      "Epoch 29 complete\n",
      ">>>>>>>>  Using eta=0.300000  <<<<<<<<\n",
      "Epoch 0 complete\n",
      "Epoch 1 complete\n",
      "Epoch 2 complete\n",
      "Epoch 3 complete\n",
      "Epoch 4 complete\n",
      "Epoch 5 complete\n",
      "Epoch 6 complete\n",
      "Epoch 7 complete\n",
      "Epoch 8 complete\n",
      "Epoch 9 complete\n",
      "Epoch 10 complete\n",
      "Epoch 11 complete\n",
      "Epoch 12 complete\n",
      "Epoch 13 complete\n",
      "Epoch 14 complete\n",
      "Epoch 15 complete\n",
      "Epoch 16 complete\n",
      "Epoch 17 complete\n",
      "Epoch 18 complete\n",
      "Epoch 19 complete\n",
      "Epoch 20 complete\n",
      "Epoch 21 complete\n",
      "Epoch 22 complete\n",
      "Epoch 23 complete\n",
      "Epoch 24 complete\n",
      "Epoch 25 complete\n",
      "Epoch 26 complete\n",
      "Epoch 27 complete\n",
      "Epoch 28 complete\n",
      "Epoch 29 complete\n",
      ">>>>>>>>  Using eta=1.000000  <<<<<<<<\n",
      "Epoch 0 complete\n",
      "Epoch 1 complete\n",
      "Epoch 2 complete\n",
      "Epoch 3 complete\n",
      "Epoch 4 complete\n",
      "Epoch 5 complete\n",
      "Epoch 6 complete\n",
      "Epoch 7 complete\n",
      "Epoch 8 complete\n",
      "Epoch 9 complete\n",
      "Epoch 10 complete\n",
      "Epoch 11 complete\n",
      "Epoch 12 complete\n",
      "Epoch 13 complete\n",
      "Epoch 14 complete\n",
      "Epoch 15 complete\n",
      "Epoch 16 complete\n",
      "Epoch 17 complete\n",
      "Epoch 18 complete\n",
      "Epoch 19 complete\n",
      "Epoch 20 complete\n",
      "Epoch 21 complete\n",
      "Epoch 22 complete\n",
      "Epoch 23 complete\n",
      "Epoch 24 complete\n",
      "Epoch 25 complete\n",
      "Epoch 26 complete\n",
      "Epoch 27 complete\n",
      "Epoch 28 complete\n",
      "Epoch 29 complete\n",
      ">>>>>>>>  Using eta=3.000000  <<<<<<<<\n",
      "Epoch 0 complete\n",
      "Epoch 1 complete\n",
      "Epoch 2 complete\n",
      "Epoch 3 complete\n",
      "Epoch 4 complete\n",
      "Epoch 5 complete\n",
      "Epoch 6 complete\n",
      "Epoch 7 complete\n",
      "Epoch 8 complete\n",
      "Epoch 9 complete\n",
      "Epoch 10 complete\n",
      "Epoch 11 complete\n",
      "Epoch 12 complete\n",
      "Epoch 13 complete\n",
      "Epoch 14 complete\n",
      "Epoch 15 complete\n",
      "Epoch 16 complete\n",
      "Epoch 17 complete\n",
      "Epoch 18 complete\n",
      "Epoch 19 complete\n",
      "Epoch 20 complete\n",
      "Epoch 21 complete\n",
      "Epoch 22 complete\n",
      "Epoch 23 complete\n",
      "Epoch 24 complete\n",
      "Epoch 25 complete\n",
      "Epoch 26 complete\n",
      "Epoch 27 complete\n",
      "Epoch 28 complete\n",
      "Epoch 29 complete\n",
      ">>>>>>>>  Using eta=10.000000  <<<<<<<<\n",
      "Epoch 0 complete\n",
      "Epoch 1 complete\n",
      "Epoch 2 complete\n",
      "Epoch 3 complete\n",
      "Epoch 4 complete\n",
      "Epoch 5 complete\n",
      "Epoch 6 complete\n",
      "Epoch 7 complete\n",
      "Epoch 8 complete\n",
      "Epoch 9 complete\n",
      "Epoch 10 complete\n",
      "Epoch 11 complete\n",
      "Epoch 12 complete\n",
      "Epoch 13 complete\n",
      "Epoch 14 complete\n",
      "Epoch 15 complete\n",
      "Epoch 16 complete\n",
      "Epoch 17 complete\n",
      "Epoch 18 complete\n",
      "Epoch 19 complete\n",
      "Epoch 20 complete\n",
      "Epoch 21 complete\n",
      "Epoch 22 complete\n",
      "Epoch 23 complete\n",
      "Epoch 24 complete\n",
      "Epoch 25 complete\n",
      "Epoch 26 complete\n",
      "Epoch 27 complete\n",
      "Epoch 28 complete\n",
      "Epoch 29 complete\n",
      "With using eta=0.950500, you can get best performance accuracy=10.000000\n"
     ]
    }
   ],
   "source": [
    "# choose best learning rate, decide fall down slowly or quickly\n",
    "eta_list = [0.01, 0.03, 0.1, 0.3, 1.0, 3.0, 10.0]  # group by twice, according UoW\n",
    "best_result_eta = [0.0, 0.0]\n",
    "for eta in eta_list:\n",
    "    print \">\"*8, \" Using eta=%f \" % eta, \"<\"*8\n",
    "    temp_nn = network.Network([784, 30, 10])\n",
    "    temp_nn.SGD(training_data, epochs=30, mini_batch_size=10, eta=eta)\n",
    "    accuracy = temp_nn.evaluate(testing_data) / (test_data[0].shape[0] * 1.0)\n",
    "    if accuracy > best_result_eta[0]:\n",
    "        best_result_eta[0] = accuracy\n",
    "        best_result_eta[1] = eta\n",
    "print \"With using eta=%f, you can get best performance accuracy=%f\" % (best_result_eta[0], best_result_eta[1])\n"
   ]
  },
  {
   "cell_type": "code",
   "execution_count": 31,
   "metadata": {
    "collapsed": false
   },
   "outputs": [
    {
     "name": "stdout",
     "output_type": "stream",
     "text": [
      "Epoch 0: 5780 / 10000\n",
      "Epoch 1: 7977 / 10000\n",
      "Epoch 2: 8960 / 10000\n",
      "Epoch 3: 9077 / 10000\n",
      "Epoch 4: 9107 / 10000\n",
      "Epoch 5: 9105 / 10000\n",
      "Epoch 6: 9050 / 10000\n",
      "Epoch 7: 9143 / 10000\n",
      "Epoch 8: 9121 / 10000\n",
      "Epoch 9: 9097 / 10000\n",
      "Epoch 10: 9118 / 10000\n",
      "Epoch 11: 9129 / 10000\n",
      "Epoch 12: 9100 / 10000\n",
      "Epoch 13: 9152 / 10000\n",
      "Epoch 14: 9140 / 10000\n",
      "Epoch 15: 9145 / 10000\n",
      "Epoch 16: 9146 / 10000\n",
      "Epoch 17: 9128 / 10000\n"
     ]
    },
    {
     "ename": "KeyboardInterrupt",
     "evalue": "",
     "output_type": "error",
     "traceback": [
      "\u001b[0;31m-----------------------------------------------------------------\u001b[0m",
      "\u001b[0;31mKeyboardInterrupt\u001b[0m               Traceback (most recent call last)",
      "\u001b[0;32m<ipython-input-31-fa7f1fbe5e54>\u001b[0m in \u001b[0;36m<module>\u001b[0;34m()\u001b[0m\n\u001b[1;32m      1\u001b[0m \u001b[0;31m# Exercise try no hidden layer\u001b[0m\u001b[0;34m\u001b[0m\u001b[0;34m\u001b[0m\u001b[0m\n\u001b[1;32m      2\u001b[0m \u001b[0mmnist_nn_no_hidden\u001b[0m \u001b[0;34m=\u001b[0m \u001b[0mnetwork\u001b[0m\u001b[0;34m.\u001b[0m\u001b[0mNetwork\u001b[0m\u001b[0;34m(\u001b[0m\u001b[0;34m[\u001b[0m\u001b[0;36m784\u001b[0m\u001b[0;34m,\u001b[0m \u001b[0;36m10\u001b[0m\u001b[0;34m]\u001b[0m\u001b[0;34m)\u001b[0m\u001b[0;34m\u001b[0m\u001b[0m\n\u001b[0;32m----> 3\u001b[0;31m \u001b[0mmnist_nn_no_hidden\u001b[0m\u001b[0;34m.\u001b[0m\u001b[0mSGD\u001b[0m\u001b[0;34m(\u001b[0m\u001b[0mtraining_data\u001b[0m\u001b[0;34m,\u001b[0m \u001b[0mepochs\u001b[0m\u001b[0;34m=\u001b[0m\u001b[0;36m100\u001b[0m\u001b[0;34m,\u001b[0m \u001b[0meta\u001b[0m\u001b[0;34m=\u001b[0m\u001b[0;36m3.0\u001b[0m\u001b[0;34m,\u001b[0m \u001b[0mmini_batch_size\u001b[0m\u001b[0;34m=\u001b[0m\u001b[0;36m10\u001b[0m\u001b[0;34m,\u001b[0m \u001b[0mtest_data\u001b[0m\u001b[0;34m=\u001b[0m\u001b[0mtesting_data\u001b[0m\u001b[0;34m)\u001b[0m\u001b[0;34m\u001b[0m\u001b[0m\n\u001b[0m",
      "\u001b[0;32m/Users/chibin/MachineLearning/NeuralNetworksAndDeepLearning/neural-networks-and-deep-learning/src/network.py\u001b[0m in \u001b[0;36mSGD\u001b[0;34m(self, training_data, epochs, mini_batch_size, eta, test_data)\u001b[0m\n\u001b[1;32m     60\u001b[0m                 for k in xrange(0, n, mini_batch_size)]\n\u001b[1;32m     61\u001b[0m             \u001b[0;32mfor\u001b[0m \u001b[0mmini_batch\u001b[0m \u001b[0;32min\u001b[0m \u001b[0mmini_batches\u001b[0m\u001b[0;34m:\u001b[0m\u001b[0;34m\u001b[0m\u001b[0m\n\u001b[0;32m---> 62\u001b[0;31m                 \u001b[0mself\u001b[0m\u001b[0;34m.\u001b[0m\u001b[0mupdate_mini_batch\u001b[0m\u001b[0;34m(\u001b[0m\u001b[0mmini_batch\u001b[0m\u001b[0;34m,\u001b[0m \u001b[0meta\u001b[0m\u001b[0;34m)\u001b[0m\u001b[0;34m\u001b[0m\u001b[0m\n\u001b[0m\u001b[1;32m     63\u001b[0m             \u001b[0;32mif\u001b[0m \u001b[0mtest_data\u001b[0m\u001b[0;34m:\u001b[0m\u001b[0;34m\u001b[0m\u001b[0m\n\u001b[1;32m     64\u001b[0m                 print \"Epoch {0}: {1} / {2}\".format(\n",
      "\u001b[0;32m/Users/chibin/MachineLearning/NeuralNetworksAndDeepLearning/neural-networks-and-deep-learning/src/network.py\u001b[0m in \u001b[0;36mupdate_mini_batch\u001b[0;34m(self, mini_batch, eta)\u001b[0m\n\u001b[1;32m     75\u001b[0m         \u001b[0mnabla_w\u001b[0m \u001b[0;34m=\u001b[0m \u001b[0;34m[\u001b[0m\u001b[0mnp\u001b[0m\u001b[0;34m.\u001b[0m\u001b[0mzeros\u001b[0m\u001b[0;34m(\u001b[0m\u001b[0mw\u001b[0m\u001b[0;34m.\u001b[0m\u001b[0mshape\u001b[0m\u001b[0;34m)\u001b[0m \u001b[0;32mfor\u001b[0m \u001b[0mw\u001b[0m \u001b[0;32min\u001b[0m \u001b[0mself\u001b[0m\u001b[0;34m.\u001b[0m\u001b[0mweights\u001b[0m\u001b[0;34m]\u001b[0m\u001b[0;34m\u001b[0m\u001b[0m\n\u001b[1;32m     76\u001b[0m         \u001b[0;32mfor\u001b[0m \u001b[0mx\u001b[0m\u001b[0;34m,\u001b[0m \u001b[0my\u001b[0m \u001b[0;32min\u001b[0m \u001b[0mmini_batch\u001b[0m\u001b[0;34m:\u001b[0m\u001b[0;34m\u001b[0m\u001b[0m\n\u001b[0;32m---> 77\u001b[0;31m             \u001b[0mdelta_nabla_b\u001b[0m\u001b[0;34m,\u001b[0m \u001b[0mdelta_nabla_w\u001b[0m \u001b[0;34m=\u001b[0m \u001b[0mself\u001b[0m\u001b[0;34m.\u001b[0m\u001b[0mbackprop\u001b[0m\u001b[0;34m(\u001b[0m\u001b[0mx\u001b[0m\u001b[0;34m,\u001b[0m \u001b[0my\u001b[0m\u001b[0;34m)\u001b[0m\u001b[0;34m\u001b[0m\u001b[0m\n\u001b[0m\u001b[1;32m     78\u001b[0m             \u001b[0mnabla_b\u001b[0m \u001b[0;34m=\u001b[0m \u001b[0;34m[\u001b[0m\u001b[0mnb\u001b[0m\u001b[0;34m+\u001b[0m\u001b[0mdnb\u001b[0m \u001b[0;32mfor\u001b[0m \u001b[0mnb\u001b[0m\u001b[0;34m,\u001b[0m \u001b[0mdnb\u001b[0m \u001b[0;32min\u001b[0m \u001b[0mzip\u001b[0m\u001b[0;34m(\u001b[0m\u001b[0mnabla_b\u001b[0m\u001b[0;34m,\u001b[0m \u001b[0mdelta_nabla_b\u001b[0m\u001b[0;34m)\u001b[0m\u001b[0;34m]\u001b[0m\u001b[0;34m\u001b[0m\u001b[0m\n\u001b[1;32m     79\u001b[0m             \u001b[0mnabla_w\u001b[0m \u001b[0;34m=\u001b[0m \u001b[0;34m[\u001b[0m\u001b[0mnw\u001b[0m\u001b[0;34m+\u001b[0m\u001b[0mdnw\u001b[0m \u001b[0;32mfor\u001b[0m \u001b[0mnw\u001b[0m\u001b[0;34m,\u001b[0m \u001b[0mdnw\u001b[0m \u001b[0;32min\u001b[0m \u001b[0mzip\u001b[0m\u001b[0;34m(\u001b[0m\u001b[0mnabla_w\u001b[0m\u001b[0;34m,\u001b[0m \u001b[0mdelta_nabla_w\u001b[0m\u001b[0;34m)\u001b[0m\u001b[0;34m]\u001b[0m\u001b[0;34m\u001b[0m\u001b[0m\n",
      "\u001b[0;32m/Users/chibin/MachineLearning/NeuralNetworksAndDeepLearning/neural-networks-and-deep-learning/src/network.py\u001b[0m in \u001b[0;36mbackprop\u001b[0;34m(self, x, y)\u001b[0m\n\u001b[1;32m    110\u001b[0m         \u001b[0;31m# scheme in the book, used here to take advantage of the fact\u001b[0m\u001b[0;34m\u001b[0m\u001b[0;34m\u001b[0m\u001b[0m\n\u001b[1;32m    111\u001b[0m         \u001b[0;31m# that Python can use negative indices in lists.\u001b[0m\u001b[0;34m\u001b[0m\u001b[0;34m\u001b[0m\u001b[0m\n\u001b[0;32m--> 112\u001b[0;31m         \u001b[0;32mfor\u001b[0m \u001b[0ml\u001b[0m \u001b[0;32min\u001b[0m \u001b[0mxrange\u001b[0m\u001b[0;34m(\u001b[0m\u001b[0;36m2\u001b[0m\u001b[0;34m,\u001b[0m \u001b[0mself\u001b[0m\u001b[0;34m.\u001b[0m\u001b[0mnum_layers\u001b[0m\u001b[0;34m)\u001b[0m\u001b[0;34m:\u001b[0m\u001b[0;34m\u001b[0m\u001b[0m\n\u001b[0m\u001b[1;32m    113\u001b[0m             \u001b[0mz\u001b[0m \u001b[0;34m=\u001b[0m \u001b[0mzs\u001b[0m\u001b[0;34m[\u001b[0m\u001b[0;34m-\u001b[0m\u001b[0ml\u001b[0m\u001b[0;34m]\u001b[0m\u001b[0;34m\u001b[0m\u001b[0m\n\u001b[1;32m    114\u001b[0m             \u001b[0msp\u001b[0m \u001b[0;34m=\u001b[0m \u001b[0msigmoid_prime\u001b[0m\u001b[0;34m(\u001b[0m\u001b[0mz\u001b[0m\u001b[0;34m)\u001b[0m\u001b[0;34m\u001b[0m\u001b[0m\n",
      "\u001b[0;31mKeyboardInterrupt\u001b[0m: "
     ]
    }
   ],
   "source": [
    "# Exercise try no hidden layer\n",
    "mnist_nn_no_hidden = network.Network([784, 10])\n",
    "mnist_nn_no_hidden.SGD(training_data, epochs=100, eta=3.0, mini_batch_size=10, test_data=testing_data)"
   ]
  },
  {
   "cell_type": "code",
   "execution_count": 32,
   "metadata": {
    "collapsed": false
   },
   "outputs": [
    {
     "name": "stdout",
     "output_type": "stream",
     "text": [
      "Baseline classifier using an SVM.\n",
      "9435 of 10000 values correct.\n"
     ]
    }
   ],
   "source": [
    "%run mnist_svm.py"
   ]
  },
  {
   "cell_type": "code",
   "execution_count": null,
   "metadata": {
    "collapsed": true
   },
   "outputs": [],
   "source": []
  }
 ],
 "metadata": {
  "kernelspec": {
   "display_name": "Python 2",
   "language": "python",
   "name": "python2"
  },
  "language_info": {
   "codemirror_mode": {
    "name": "ipython",
    "version": 2
   },
   "file_extension": ".py",
   "mimetype": "text/x-python",
   "name": "python",
   "nbconvert_exporter": "python",
   "pygments_lexer": "ipython2",
   "version": "2.7.10"
  }
 },
 "nbformat": 4,
 "nbformat_minor": 0
}
