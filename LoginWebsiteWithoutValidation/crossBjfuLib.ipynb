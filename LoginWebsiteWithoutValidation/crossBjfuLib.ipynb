{
 "cells": [
  {
   "cell_type": "code",
   "execution_count": 38,
   "metadata": {
    "collapsed": false
   },
   "outputs": [],
   "source": [
    "%matplotlib inline\n",
    "import matplotlib.pyplot as plt\n",
    "import matplotlib.image as mg\n",
    "import numpy as np\n",
    "import requests"
   ]
  },
  {
   "cell_type": "code",
   "execution_count": 57,
   "metadata": {
    "collapsed": false
   },
   "outputs": [],
   "source": [
    "rs = requests.session()\n",
    "valCode = rs.get('http://202.204.121.41:8080/reader/captcha.php',\\\n",
    "                 stream=True, verify=False)\n",
    "fr = open('vlaCode.png', 'wb')\n",
    "fr.write(valCode.raw.read()) # Sace image\n",
    "fr.close()"
   ]
  },
  {
   "cell_type": "code",
   "execution_count": 58,
   "metadata": {
    "collapsed": false
   },
   "outputs": [
    {
     "data": {
      "image/png": "[encoded data removed]",
      "text/plain": [
       "<IPython.core.display.Image object>"
      ]
     },
     "execution_count": 58,
     "metadata": {},
     "output_type": "execute_result"
    }
   ],
   "source": [
    "from IPython.display import Image\n",
    "Image('vlaCode.png') # Show image"
   ]
  },
  {
   "cell_type": "code",
   "execution_count": 59,
   "metadata": {
    "collapsed": false
   },
   "outputs": [],
   "source": [
    "sheet_info = {\"number\":\"131114102\",\n",
    "             \"passwd\":\"140531\",\n",
    "             \"select\":\"cert_no\",\n",
    "             \"captcha\":\"4507\"} # sheet of information\n",
    "res = rs.post('http://202.204.121.41:8080/reader/redr_verify.php', \\\n",
    "              data=sheet_info, verify=False) \n",
    "# Send reqeust and post sheet"
   ]
  },
  {
   "cell_type": "code",
   "execution_count": 60,
   "metadata": {
    "collapsed": false
   },
   "outputs": [
    {
     "name": "stdout",
     "output_type": "stream",
     "text": [
      "<!DOCTYPE HTML>\r\n",
      "<html>\r\n",
      "<head>\r\n",
      "<meta http-equiv=\"Content-Type\" content=\"text/html; charset=utf-8\">\r\n",
      "  <title>北京林业大学图书馆v5.0书目检索系统 </title>\r\n",
      "<link type=\"text/css\" rel=\"stylesheet\" href=\"../tpl/css/style.css\">\r\n",
      "<link type=\"text/css\" rel=\"stylesheet\" href=\"../tpl/css/mylib.css\" />\r\n",
      "<link type=\"text/css\" rel=\"stylesheet\" href=\"../tpl/css/ui-lightness/jquery-ui-1.8.13.custom.css\">\r\n",
      "<script  type=\"text/javascript\" src=\"../tpl/js/jquery.1.7.1.min.js\"></script>\r\n",
      "<script  type=\"text/javascript\" src=\"../tpl/js/jquery-ui-1.8.13.custom.min.js\"></script>\r\n",
      "<script  type=\"text/javascript\" src=\"../tpl/js/highlighter.js\"></script>\r\n",
      "</head>\r\n",
      "<body>\r\n",
      "<div id=\"header_opac\">\r\n",
      "\t<h1 class=\"header_opac_img\">\r\n",
      "    <div class=\"header_opac_logo\">\r\n",
      "    \t北京林业大学图书馆书目检索系统<br>\r\n",
      "        <p>Online Public Access Catalogue</p>\r\n",
      "        \r\n",
      "    </div>\r\n",
      "    </h1>\r\n",
      "    <div class=\"header_right header_right_top\">\r\n",
      "      <p class=\"header_right_font\">       </p>\r\n",
      "      <p style=\"margin-top:60px;\" class=\"header_right_font\">\r\n",
      "        <a href=\"../opac/book_cart.php\">暂存书架(<span id=\"bookcartCount\">0</span>)</a> | <font color=\"blue\">江智彬</font> <strong><a href=\"../reader/logout.php\" style=\"color:#ff0000;\">注销</a></strong></p>\r\n",
      "       </div>\r\n",
      "</div>\r\n",
      "<div id=\"menubar\">\r\n",
      "    <ul id=\"menu_top\">\r\n",
      "    \t\t  \t<li><a href=\"../opac/search.php\" target=\"_self\" >书目检索</a></li>\r\n",
      "\t  \t\t  \t<li><a href=\"../top/top_lend.php\" target=\"_self\" >热门推荐</a></li>\r\n",
      "\t  \t\t  \t<li><a href=\"../browse/cls_browsing.php\" target=\"_self\" >分类浏览</a></li>\r\n",
      "\t  \t\t  \t<li><a href=\"../newbook/newbook_cls_browse.php\" target=\"_self\" >新书通报</a></li>\r\n",
      "\t  \t\t  \t<li><a href=\"../peri/peri_nav_e.php\" target=\"_self\" >期刊导航</a></li>\r\n",
      "\t  \t\t  \t<li><a href=\"../asord/asord_hist.php\" target=\"_self\" >读者荐购</a></li>\r\n",
      "\t  \t\t  \t<li><a href=\"../shelf/curriculum.php\" target=\"_self\" >学科参考</a></li>\r\n",
      "\t  \t\t  \t<li><a href=\"../info/info_guide.php\" target=\"_self\" >信息发布</a></li>\r\n",
      "\t  \t\t  \t<li><a class=\"menu_top_on\" style=\"color:#6C5B23;\"\thref=\"../reader/redr_info.php\" target=\"_self\" >我的图书馆</a></li>\r\n",
      "\t  \t\t  \t         <div class=\"clear\"></div>\r\n",
      "    </ul>\r\n",
      "</div>\r\n",
      "<div id=\"submenu\">\r\n",
      "\t        <div class=\"clear\"></div>\r\n",
      "</div>\r\n",
      "\r\n",
      "\t\t\r\n",
      "\n",
      "\n",
      "<div id=\"mainbox\">\r\n",
      "   <div id=\"container\">\r\n",
      "  <div id=\"navsidebar\">\r\n",
      "     <ul id=\"nav_mylib\">\r\n",
      "     \t<li id=\"nav_mylibhome\"><a href=\"redr_info.php\" >证件信息</a></li><li><a href=\"book_lst.php\" >当前借阅</a></li><li><a href=\"book_hist.php\" >借阅历史</a></li><li><a href=\"asord_lst.php\" >荐购历史</a></li><li><a href=\"preg.php\" >预约信息</a></li><li><a href=\"relegate.php\" >委托信息</a></li><li><a href=\"book_shelf.php\" >我的书架</a></li><li><a href=\"book_loss.php\" >书刊遗失</a></li><li><a href=\"redr_lost.php\" >读者挂失</a></li><li><a href=\"account.php\" >帐目清单</a></li><li><a href=\"fine_pec.php\" >违章缴款</a></li><li><a href=\"book_rv.php\" >我的书评</a></li><li><a href=\"search_hist.php\" >检索历史</a></li>\r\n",
      "     </ul>\r\n",
      "  </div>\r\n",
      "  \r\n",
      "  <div id=\"mylib_content\">\r\n",
      "  \t<h2>证件信息</h2><br /><br />\r\n",
      "\t<div class=\"mylib_msg\">\r\n",
      "\t\t<a href=\"book_lst.php\">五天内即将过期图书[<strong style=\"color:#F00;\">5</strong>]</a>，<a href=\"book_lst.php\">已超期图书[<strong style=\"color:#F00;\">0</strong>]</a>，<a href=\"preg.php\">预约到书[<strong style=\"color:#F00;\">0</strong>]</a>， <a href=\"relegate.php\">委托到书[<strong style=\"color:#F00;\">0</strong>]</a>\r\n",
      "     \t<br /><br /> \r\n",
      "     \t最近两个月您一共有<a href=\"asord_lst.php\">【3】条荐购</a>，图书馆已处理了【2】条 ，点击<a href=\"../asord/asord_redr.php\" class=\"btn btn-success\" style=\"color:#fff;\">继续荐购</a>\t</div>\r\n",
      "    <div id=\"mylib_info\" >\r\n",
      "\t<table width=\"100%\" border=\"0\" cellpadding=\"5\" cellspacing=\"1\" style=\"padding:8px\">\r\n",
      "\t\t\t\t  <TR >\r\n",
      "\t\t\t\t\t<TD rowspan=\"6\" >\r\n",
      "\t\t\t        <span style=\"padding-left:20px;\"><img src=\"../tpl/images/libimg.png\" border=\"0\" /></span><br />\r\n",
      "\t\t\t\t\t\t<input type=\"button\" class=\"btn btn-success\"  VALUE=\"修改密码\" onclick=\"javascript:location.href='change_passwd.php'\" />\r\n",
      "\t\t\t\t\t\t<input type=\"button\" class=\"btn btn-success\"  VALUE=\"修改信息\" onclick=\"javascript:location.href='change_email.php'\" />\r\n",
      "\t\t\t        </TD>\r\n",
      "\t\t\t\t\t\t<TD><span class=\"bluetext\">姓名：</span>江智彬</TD>\r\n",
      "\t\t\t\t\t\t<TD><span class=\"bluetext\">证件号： </span>131114102</TD>\r\n",
      "\t\t\t\t\t\t<TD ><span class=\"bluetext\">条码号：</span>237996</TD>\r\n",
      "\t\t\t\t  </TR>\r\n",
      "\t\t\t      <TR >\r\n",
      "\t\t\t\t\t\t<TD ><span class=\"bluetext\">失效日期：</span>2017-08-11</TD>\r\n",
      "\t\t\t\t\t\t<TD ><span class=\"bluetext\">办证日期：</span>2016-02-16</TD>\r\n",
      "\t                  \t<TD ><span class=\"bluetext\">生效日期：</span>2013-08-11</TD>\r\n",
      "\t\t\t\t  </TR>\r\n",
      "                  <TR>\r\n",
      "\t                  <TD ><span class=\"bluetext\">最大可借图书：</span>20</TD>\r\n",
      "\t                  <TD ><span class=\"bluetext\">最大可预约图书：</span>3</TD>\r\n",
      "\t                  <TD><span class=\"bluetext\">最大可委托图书：</span>0</TD>\r\n",
      "                  </TR>\r\n",
      "                  <TR>\r\n",
      "\t                  <TD ><span class=\"bluetext\">读者类型：</span>本科生</TD>\r\n",
      "\t                  <TD ><span class=\"bluetext\">借阅等级：</span>01</TD>\r\n",
      "\t                  <TD><span class=\"bluetext\">累计借书：</span>215册次</TD>\r\n",
      "                  </TR>\r\n",
      "\t\t\t      <TR>\r\n",
      "\t\t\t      \t\t<TD ><span class=\"bluetext\">违章次数：</span>0</TD>\r\n",
      "\t\t\t      \t\t<TD ><span class=\"bluetext\">欠款金额：</span>0</TD>\r\n",
      "\t\t\t\t\t\t<TD ><span class=\"bluetext\">系别：</span></TD>\r\n",
      "\t\t\t\t  </TR>\r\n",
      "\t\t\t      <TR >\t\t\r\n",
      "\t\t\t\t\t\t<TD colspan=\"2\"><span class=\"bluetext\">Email：</span>2399424761@qq.com\r\n",
      "\t                  \t\t                  \t\t<font color=\"red\">未验证</font>&nbsp;&nbsp;<a class=\"blue\" href=\"email_con.php\">点击验证</a>\r\n",
      "\t                  \t\t                  \t</TD>\r\n",
      "\t                  \t<TD colspan=\"2\"><span class=\"bluetext\">身份证号： </span></TD>\t\r\n",
      "\t\t\t\t  </TR>\r\n",
      "                  <TR>\r\n",
      "\t                   <TD ><span class=\"bluetext\">工作单位：</span>教学部</TD>\r\n",
      "\t                   <TD ><span class=\"bluetext\">职业/职称：</span>电子信息科学与技术 </TD>\r\n",
      "\t                   <TD ><span class=\"bluetext\">职位：</span></TD>\r\n",
      "\t                   \t<TD ><span class=\"bluetext\">性别：</span>男</TD>\r\n",
      "                  </TR>\r\n",
      "                  <TR>\r\n",
      "\t                  <TD ><span class=\"bluetext\">住址：</span></TD>\r\n",
      "\t                  <TD ><span class=\"bluetext\">邮编：</span>100083</TD>\r\n",
      "\t                  <TD ><span class=\"bluetext\">电话：</span></TD>\r\n",
      "\t                  <TD ><span class=\"bluetext\">手机：</span>\r\n",
      "\t                  \t                  \t\t18813105413\r\n",
      "\t                  \t                  </TD>\r\n",
      "\t              </tr>\r\n",
      "\t              <tr>\r\n",
      "\t\t\t\t\t\t<TD ><span class=\"bluetext\">出生日期：</span></TD>\r\n",
      "\t\t\t\t\t\t<TD ><span class=\"bluetext\">文化程度：</span></TD>\r\n",
      "\t                  <TD ><span class=\"bluetext\">押金：</span>0元</TD>\r\n",
      "\t                  <TD ><span class=\"bluetext\">手续费：</span>0元</TD>\r\n",
      "                  </TR>\r\n",
      "\t</table>\r\n",
      "    </div>\r\n",
      "\t<h2><span id=\"ruleSpan\" title=\"点击展开详细规则信息\" onclick=\"toggle()\" style=\"height:66px;cursor:hand;\">适用的借阅规则<img src=\"../tpl/images/arrow_down.gif\" /></span></h2>\r\n",
      "    <table id=\"rule\" width=\"100%\" border=\"0\" cellpadding=\"5\" cellspacing=\"1\" bgcolor=\"#CCCCCC\" class=\"table_line\">\r\n",
      "\t\t<tr>\r\n",
      "        <td width=\"125\" class=\"greytext\">规则名称</td>\r\n",
      "        <td width=\"123\" class=\"greytext\">适用馆藏地</td>\r\n",
      "        <td width=\"106\" align=\"left\" class=\"greytext\">图书流通类型</td>\r\n",
      "        <td width=\"78\" align=\"center\" class=\"greytext\">最大借阅册数</td>\r\n",
      "        <td width=\"31\" align=\"center\" class=\"greytext\">借期</td>\r\n",
      "        <td width=\"43\" align=\"center\" class=\"greytext\">预约</td>\r\n",
      "        <td width=\"43\" align=\"center\" class=\"greytext\">续借</td>\r\n",
      "        <td width=\"54\" class=\"greytext\"></td>\r\n",
      "      </tr>\r\n",
      "\t\t\t\t<tr>\r\n",
      "\t\t\t<td class=\"whitetext\" width=\"125\">研本 I类</td>\r\n",
      "\t\t  <td align=\"left\" class=\"whitetext\" width=\"123\">总服务台,密集书库（2）,401借阅室,图书馆大厅</td>\r\n",
      "\t\t  <td align=\"left\" class=\"whitetext\" width=\"106\">文艺小说</td>\r\n",
      "\t\t  <td align=\"center\" class=\"whitetext\" width=\"78\">5</td>\r\n",
      "\t\t  <td align=\"center\" class=\"whitetext\" width=\"31\">30</td>\r\n",
      "\t\t  <td align=\"center\" class=\"whitetext\" width=\"43\">允许</td>\r\n",
      "\t\t  <td align=\"center\" class=\"whitetext\" width=\"43\">允许</td>\r\n",
      "\t\t\t<td align=\"center\" class=\"whitetext\" width=\"43\"> <a class=\"blue\" href=\"redr_rule_form.php?rule_no=0000000004\">查看借阅规则</a></td>\r\n",
      "\t\t</tr>\r\n",
      "\t\t\t\t<tr>\r\n",
      "\t\t\t<td class=\"whitetext\" width=\"125\">本科生 其他类</td>\r\n",
      "\t\t  <td align=\"left\" class=\"whitetext\" width=\"123\">201借阅室,202借阅室,301借阅室,302借阅室,总服务台,密集书库（2）,401借阅室,图书馆大厅</td>\r\n",
      "\t\t  <td align=\"left\" class=\"whitetext\" width=\"106\">其他</td>\r\n",
      "\t\t  <td align=\"center\" class=\"whitetext\" width=\"78\">20</td>\r\n",
      "\t\t  <td align=\"center\" class=\"whitetext\" width=\"31\">30</td>\r\n",
      "\t\t  <td align=\"center\" class=\"whitetext\" width=\"43\">允许</td>\r\n",
      "\t\t  <td align=\"center\" class=\"whitetext\" width=\"43\">允许</td>\r\n",
      "\t\t\t<td align=\"center\" class=\"whitetext\" width=\"43\"> <a class=\"blue\" href=\"redr_rule_form.php?rule_no=0000000008\">查看借阅规则</a></td>\r\n",
      "\t\t</tr>\r\n",
      "\t\t\t\t<tr>\r\n",
      "\t\t\t<td class=\"whitetext\" width=\"125\">BALIS馆际互借</td>\r\n",
      "\t\t  <td align=\"left\" class=\"whitetext\" width=\"123\">总服务台</td>\r\n",
      "\t\t  <td align=\"left\" class=\"whitetext\" width=\"106\">其他</td>\r\n",
      "\t\t  <td align=\"center\" class=\"whitetext\" width=\"78\">6</td>\r\n",
      "\t\t  <td align=\"center\" class=\"whitetext\" width=\"31\">30</td>\r\n",
      "\t\t  <td align=\"center\" class=\"whitetext\" width=\"43\">不允许</td>\r\n",
      "\t\t  <td align=\"center\" class=\"whitetext\" width=\"43\">不允许</td>\r\n",
      "\t\t\t<td align=\"center\" class=\"whitetext\" width=\"43\"> <a class=\"blue\" href=\"redr_rule_form.php?rule_no=0000000011\">查看借阅规则</a></td>\r\n",
      "\t\t</tr>\r\n",
      "\t\t    </table>\r\n",
      "  </div>\r\n",
      "  <div class=\"clear\"></div>\r\n",
      "</div>\r\n",
      "<script type=\"text/javascript\">\r\n",
      "<!--\r\n",
      "$(\"#rule\").hide();\r\n",
      "function toggle(){ \r\n",
      "\t$(\"#rule\").toggle();\r\n",
      "}\r\n",
      "-->\r\n",
      "</script><div id=\"footer\"><div id=\"copy\"><p> 北京林业大学图书馆&nbsp;&nbsp; OPAC v5.0.14.07.08  &nbsp;&nbsp;</p><p>&copy; 1999-2014 <a target=\"_blank\" href=\"http://www.libsys.com.cn\">Jiangsu Huiwen Software Ltd. 江苏汇文软件有限公司</a></p></div></div></body></html>\n"
     ]
    }
   ],
   "source": [
    "res.encoding = 'utf-8'\n",
    "print res.text"
   ]
  },
  {
   "cell_type": "code",
   "execution_count": 118,
   "metadata": {
    "collapsed": false
   },
   "outputs": [
    {
     "data": {
      "text/plain": [
       "<matplotlib.image.AxesImage at 0x13cf2ef0>"
      ]
     },
     "execution_count": 118,
     "metadata": {},
     "output_type": "execute_result"
    },
    {
     "data": {
      "image/png": "[encoded data removed]",
      "text/plain": [
       "<matplotlib.figure.Figure at 0x139b7390>"
      ]
     },
     "metadata": {},
     "output_type": "display_data"
    }
   ],
   "source": [
    "rate = [1, 14, 27, 40, 53]\n",
    "plt.subplot(2,2,1)\n",
    "plt.imshow(img_val[:, rate[0]:rate[1], :]) # 3-D\n",
    "plt.subplot(2,2,2)\n",
    "plt.imshow(img_val[:, rate[1]:rate[2], :])\n",
    "plt.subplot(2,2,3)\n",
    "plt.imshow(img_val[:, rate[2]:rate[3], :])\n",
    "plt.subplot(2,2,4)\n",
    "plt.imshow(img_val[:, rate[3]:rate[4], :])"
   ]
  },
  {
   "cell_type": "code",
   "execution_count": 121,
   "metadata": {
    "collapsed": false
   },
   "outputs": [
    {
     "data": {
      "text/plain": [
       "<matplotlib.image.AxesImage at 0x13d305c0>"
      ]
     },
     "execution_count": 121,
     "metadata": {},
     "output_type": "execute_result"
    },
    {
     "data": {
      "image/png": "[encoded data removed]",
      "text/plain": [
       "<matplotlib.figure.Figure at 0x14ecdeb8>"
      ]
     },
     "metadata": {},
     "output_type": "display_data"
    }
   ],
   "source": [
    "img = mg.imread('3.gif')\n",
    "plt.subplot(2,2,1)\n",
    "plt.imshow(img[:, rate[0]:rate[1], :]) # 3-D\n",
    "plt.subplot(2,2,2)\n",
    "plt.imshow(img[:, rate[1]:rate[2], :])\n",
    "plt.subplot(2,2,3)\n",
    "plt.imshow(img[:, rate[2]:rate[3], :])\n",
    "plt.subplot(2,2,4)\n",
    "plt.imshow(img[:, rate[3]:rate[4], :])"
   ]
  },
  {
   "cell_type": "code",
   "execution_count": 136,
   "metadata": {
    "collapsed": false
   },
   "outputs": [
    {
     "data": {
      "text/plain": [
       "<matplotlib.image.AxesImage at 0x16b2d048>"
      ]
     },
     "execution_count": 136,
     "metadata": {},
     "output_type": "execute_result"
    },
    {
     "data": {
      "image/png": "[encoded data removed]",
      "text/plain": [
       "<matplotlib.figure.Figure at 0x16899f98>"
      ]
     },
     "metadata": {},
     "output_type": "display_data"
    }
   ],
   "source": [
    "def rgb2gray(rgb):\n",
    "    return np.dot(rgb[...,:3], [0.299, 0.587, 0.114])\n",
    "subimg = img[14:28, rate[0]:rate[1], :]\n",
    "plt.imshow(rgb2gray(subimg), cmap=\"Greys_r\")"
   ]
  },
  {
   "cell_type": "code",
   "execution_count": 140,
   "metadata": {
    "collapsed": false
   },
   "outputs": [
    {
     "data": {
      "text/plain": [
       "array([[ 212.262,  212.262,  212.262,  212.262,  212.262,  212.262,\n",
       "         212.262,  212.262,  212.262,  212.262,  212.262,  212.262,\n",
       "         212.262],\n",
       "       [ 212.262,  212.262,  212.262,  212.262,  212.262,  212.262,\n",
       "         212.262,  212.262,  212.262,  212.262,  212.262,  212.262,\n",
       "         212.262],\n",
       "       [ 212.262,  212.262,  212.262,  212.262,  212.262,  212.262,\n",
       "         212.262,    2.826,    2.826,    2.826,    2.826,  212.262,\n",
       "         212.262],\n",
       "       [ 212.262,  212.262,  212.262,  212.262,  212.262,  212.262,\n",
       "           2.826,    2.826,  212.262,  212.262,    2.826,    2.826,\n",
       "         212.262],\n",
       "       [ 212.262,  212.262,  212.262,  212.262,  212.262,    2.826,\n",
       "           2.826,  212.262,  212.262,  212.262,  212.262,    2.826,\n",
       "           2.826],\n",
       "       [ 212.262,  212.262,  212.262,  212.262,  212.262,  212.262,\n",
       "         212.262,  212.262,  212.262,  212.262,  212.262,    2.826,\n",
       "           2.826],\n",
       "       [ 212.262,  212.262,  212.262,  212.262,  212.262,  212.262,\n",
       "         212.262,  212.262,  212.262,  212.262,    2.826,    2.826,\n",
       "         212.262],\n",
       "       [ 212.262,  212.262,  212.262,  212.262,  212.262,  212.262,\n",
       "         212.262,  212.262,  212.262,    2.826,    2.826,  212.262,\n",
       "         212.262],\n",
       "       [ 212.262,  212.262,  212.262,  212.262,  212.262,  212.262,\n",
       "         212.262,  212.262,    2.826,    2.826,  212.262,  212.262,\n",
       "         212.262],\n",
       "       [ 212.262,  212.262,  212.262,  212.262,  212.262,  212.262,\n",
       "         212.262,    2.826,    2.826,  212.262,  212.262,  212.262,\n",
       "         212.262],\n",
       "       [ 212.262,  212.262,  212.262,  212.262,  212.262,  212.262,\n",
       "           2.826,    2.826,  212.262,  212.262,  212.262,  212.262,\n",
       "         212.262],\n",
       "       [ 212.262,  212.262,  212.262,  212.262,  212.262,    2.826,\n",
       "           2.826,    2.826,    2.826,    2.826,    2.826,    2.826,\n",
       "           2.826],\n",
       "       [ 212.262,  212.262,  212.262,  212.262,  212.262,  212.262,\n",
       "         212.262,  212.262,  212.262,  212.262,  212.262,  212.262,\n",
       "         212.262],\n",
       "       [ 212.262,  212.262,  212.262,  212.262,  212.262,  212.262,\n",
       "         212.262,  212.262,  212.262,  212.262,  212.262,  212.262,\n",
       "         212.262]])"
      ]
     },
     "execution_count": 140,
     "metadata": {},
     "output_type": "execute_result"
    }
   ],
   "source": [
    "rgb2gray(subimg)"
   ]
  },
  {
   "cell_type": "code",
   "execution_count": 145,
   "metadata": {
    "collapsed": false
   },
   "outputs": [
    {
     "name": "stdout",
     "output_type": "stream",
     "text": [
      "Help on function imsave in module matplotlib.pyplot:\n",
      "\n",
      "imsave(*args, **kwargs)\n",
      "    Save an array as in image file.\n",
      "    \n",
      "    The output formats available depend on the backend being used.\n",
      "    \n",
      "    Arguments:\n",
      "      *fname*:\n",
      "        A string containing a path to a filename, or a Python file-like object.\n",
      "        If *format* is *None* and *fname* is a string, the output\n",
      "        format is deduced from the extension of the filename.\n",
      "      *arr*:\n",
      "        An MxN (luminance), MxNx3 (RGB) or MxNx4 (RGBA) array.\n",
      "    Keyword arguments:\n",
      "      *vmin*/*vmax*: [ None | scalar ]\n",
      "        *vmin* and *vmax* set the color scaling for the image by fixing the\n",
      "        values that map to the colormap color limits. If either *vmin*\n",
      "        or *vmax* is None, that limit is determined from the *arr*\n",
      "        min/max value.\n",
      "      *cmap*:\n",
      "        cmap is a colors.Colormap instance, e.g., cm.jet.\n",
      "        If None, default to the rc image.cmap value.\n",
      "      *format*:\n",
      "        One of the file extensions supported by the active\n",
      "        backend.  Most backends support png, pdf, ps, eps and svg.\n",
      "      *origin*\n",
      "        [ 'upper' | 'lower' ] Indicates where the [0,0] index of\n",
      "        the array is in the upper left or lower left corner of\n",
      "        the axes. Defaults to the rc image.origin value.\n",
      "      *dpi*\n",
      "        The DPI to store in the metadata of the file.  This does not affect the\n",
      "        resolution of the output image.\n",
      "\n"
     ]
    }
   ],
   "source": [
    "help(plt.imsave)"
   ]
  },
  {
   "cell_type": "code",
   "execution_count": null,
   "metadata": {
    "collapsed": true
   },
   "outputs": [],
   "source": []
  }
 ],
 "metadata": {
  "kernelspec": {
   "display_name": "Python 2",
   "language": "python",
   "name": "python2"
  },
  "language_info": {
   "codemirror_mode": {
    "name": "ipython",
    "version": 2
   },
   "file_extension": ".py",
   "mimetype": "text/x-python",
   "name": "python",
   "nbconvert_exporter": "python",
   "pygments_lexer": "ipython2",
   "version": "2.7.10"
  }
 },
 "nbformat": 4,
 "nbformat_minor": 0
}
